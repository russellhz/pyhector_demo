{
 "cells": [
  {
   "cell_type": "code",
   "execution_count": 1,
   "metadata": {
    "collapsed": true
   },
   "outputs": [],
   "source": [
    "import pyhector\n",
    "from pyhector import rcp26, rcp45, rcp60, rcp85"
   ]
  },
  {
   "cell_type": "code",
   "execution_count": null,
   "metadata": {},
   "outputs": [],
   "source": [
    "# Input emissions rcp 2.6\n",
    "rcp26.head(5)"
   ]
  },
  {
   "cell_type": "code",
   "execution_count": null,
   "metadata": {},
   "outputs": [],
   "source": [
    "# Run hector and show default outputs\n",
    "output = pyhector.run(rcp26)\n",
    "output.head(5)"
   ]
  },
  {
   "cell_type": "code",
   "execution_count": null,
   "metadata": {},
   "outputs": [],
   "source": [
    "# Display other outputs\n",
    "output = pyhector.run(rcp26, outputs=['temperature.Tgav', 'simpleNbox.Ca', 'forcing.Ftot',\n",
    "                                      'forcing.FCO2', 'ocean.Temp_HL'])\n",
    "output.head(5)"
   ]
  },
  {
   "cell_type": "code",
   "execution_count": null,
   "metadata": {},
   "outputs": [],
   "source": [
    "# Calculate mean forcing 1850-1950\n",
    "output['forcing.Ftot'].loc[1850:1950].mean()"
   ]
  },
  {
   "cell_type": "code",
   "execution_count": null,
   "metadata": {},
   "outputs": [],
   "source": [
    "# Plot rcp temperatures\n",
    "import matplotlib.pyplot as plt\n",
    "\n",
    "for rcp in [rcp26, rcp45, rcp60, rcp85]:\n",
    "    output = pyhector.run(rcp, {\"core\": {\"endDate\": 2100}})\n",
    "    temp = output[\"temperature.Tgav\"]\n",
    "    # Adjust to 1850 - 1900 reference period\n",
    "    temp = temp.loc[1850:] - temp.loc[1850:1900].mean()\n",
    "    temp.plot(label=rcp.name.split(\"_\")[0])\n",
    "plt.title(\"Global mean temperature\")\n",
    "plt.ylabel(\"Degrees C over pre-industrial (1850-1900 mean)\")\n",
    "plt.legend(loc=\"best\")\n",
    "plt.show()"
   ]
  },
  {
   "cell_type": "code",
   "execution_count": null,
   "metadata": {},
   "outputs": [],
   "source": [
    "# Read in co2 file to match\n",
    "import pandas as pd\n",
    "from numpy import mean\n",
    "from dplython import (DplyFrame, X, mutate)\n",
    "co2_file_to_match = \"annual_avg_co2_GFDL-ESM2M_rcp45_r1i1p1.csv\"\n",
    "esm_co2_data = pd.read_csv(co2_file_to_match).rename(columns={\"value.1...\":\"co2_value\"}).set_index('year')\n",
    "esm_co2 = esm_co2_data.co2_value * 1000000\n",
    "esm_co2.head(5)"
   ]
  },
  {
   "cell_type": "code",
   "execution_count": null,
   "metadata": {},
   "outputs": [],
   "source": [
    "# Compare hector and esm\n",
    "CONCENTRATION_CO2 = \"simpleNbox.Ca\"\n",
    "hector_co2 = pyhector.run(pyhector.rcp45)[CONCENTRATION_CO2].loc[esm_co2.index]\n",
    "DplyFrame({\"hector\": hector_co2, \"esm\": esm_co2}).head()"
   ]
  },
  {
   "cell_type": "code",
   "execution_count": null,
   "metadata": {},
   "outputs": [],
   "source": [
    "# Function to calculate difference\n",
    "def difference_quantifier(esm_series, hector_run_series):\n",
    "    calculate_df = DplyFrame({\"hector\": hector_run_series, \"esm\": esm_series})\n",
    "    calculate_df = calculate_df >> mutate(percentdiff=(X.hector - X.esm) / X.esm)\n",
    "    return mean(abs(calculate_df.percentdiff))\n",
    "\n",
    "difference_quantifier(esm_co2,hector_co2)"
   ]
  },
  {
   "cell_type": "code",
   "execution_count": null,
   "metadata": {},
   "outputs": [],
   "source": [
    "# Function to run hector with selected parameters and calculate difference from esm\n",
    "def hector_runner(params, comp_data, var):\n",
    "    hector_output = pyhector.run(pyhector.rcp45, {\"temperature\": {\"S\": params[0]},\n",
    "                                                 \"simpleNbox\":{\"beta\":params[1]},\n",
    "                                                \"simpleNbox\":{\"q10_rh\":params[2]}})\n",
    "    hector_co2 = hector_output[var].loc[comp_data.index]\n",
    "    return difference_quantifier(comp_data, hector_co2)\n",
    "\n",
    "hector_runner([4,1,1], esm_co2, CONCENTRATION_CO2)"
   ]
  },
  {
   "cell_type": "code",
   "execution_count": null,
   "metadata": {},
   "outputs": [],
   "source": [
    "import scipy.optimize"
   ]
  },
  {
   "cell_type": "code",
   "execution_count": null,
   "metadata": {},
   "outputs": [],
   "source": [
    "optim = scipy.optimize.fmin_powell(hector_runner, x0 = [5,2,2], args = (esm_co2,CONCENTRATION_CO2))\n",
    "optim"
   ]
  },
  {
   "cell_type": "code",
   "execution_count": null,
   "metadata": {},
   "outputs": [],
   "source": [
    "# Compare optimized hector to default hector\n",
    "hector_optim =  pyhector.run(pyhector.rcp45, {\"temperature\": {\"S\": 3.74202374},\n",
    "                                                 \"simpleNbox\":{\"beta\":9.77973754},\n",
    "                                                \"simpleNbox\":{\"q10_rh\":2.00205191}})\n",
    "\n",
    "optimized = hector_optim[CONCENTRATION_CO2].loc[2010:2100]\n",
    "\n",
    "plt.style.use('ggplot')\n",
    "plt.rcParams['figure.figsize'] = 16, 9\n",
    "\n",
    "hector_co2.plot(label=\"Default Hector\")\n",
    "optimized.plot(label = \"Optimized Hector\")\n",
    "esm_co2.plot(label = \"GFDL-ESM2M\")\n",
    "plt.title(\"CO2 Concentration - rcp45\")\n",
    "plt.ylabel(\"PPM\")\n",
    "plt.legend(loc=\"best\")\n",
    "plt.show()"
   ]
  }
 ],
 "metadata": {
  "kernelspec": {
   "display_name": "Python 2",
   "language": "python",
   "name": "python2"
  },
  "language_info": {
   "codemirror_mode": {
    "name": "ipython",
    "version": 2.0
   },
   "file_extension": ".py",
   "mimetype": "text/x-python",
   "name": "python",
   "nbconvert_exporter": "python",
   "pygments_lexer": "ipython2",
   "version": "2.7.6"
  }
 },
 "nbformat": 4,
 "nbformat_minor": 0
}