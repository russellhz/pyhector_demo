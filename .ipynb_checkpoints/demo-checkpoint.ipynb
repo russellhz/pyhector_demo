{
 "cells": [
  {
   "cell_type": "code",
   "execution_count": 1,
   "metadata": {
    "collapsed": true
   },
   "outputs": [],
   "source": [
    "import pyhector\n",
    "from pyhector import rcp26, rcp45, rcp60, rcp85"
   ]
  },
  {
   "cell_type": "code",
   "execution_count": 2,
   "metadata": {},
   "outputs": [
    {
     "data": {
      "text/html": [
       "<div>\n",
       "<table border=\"1\" class=\"dataframe\">\n",
       "  <thead>\n",
       "    <tr style=\"text-align: right;\">\n",
       "      <th></th>\n",
       "      <th>anthroEmissions</th>\n",
       "      <th>lucEmissions</th>\n",
       "      <th>CH4_emissions</th>\n",
       "      <th>N2O_emissions</th>\n",
       "      <th>SO2_emissions</th>\n",
       "      <th>CO_emissions</th>\n",
       "      <th>NMVOC_emissions</th>\n",
       "      <th>NOX_emissions</th>\n",
       "      <th>BC_emissions</th>\n",
       "      <th>OC_emissions</th>\n",
       "      <th>...</th>\n",
       "      <th>CCl4_emissions</th>\n",
       "      <th>CH3CCl3_emissions</th>\n",
       "      <th>HCF22_emissions</th>\n",
       "      <th>HCF141b_emissions</th>\n",
       "      <th>HCF142b_emissions</th>\n",
       "      <th>halon1211_emissions</th>\n",
       "      <th>halon1301_emissions</th>\n",
       "      <th>halon2402_emissions</th>\n",
       "      <th>CH3Br_emissions</th>\n",
       "      <th>CH3Cl_emissions</th>\n",
       "    </tr>\n",
       "    <tr>\n",
       "      <th>Date</th>\n",
       "      <th></th>\n",
       "      <th></th>\n",
       "      <th></th>\n",
       "      <th></th>\n",
       "      <th></th>\n",
       "      <th></th>\n",
       "      <th></th>\n",
       "      <th></th>\n",
       "      <th></th>\n",
       "      <th></th>\n",
       "      <th></th>\n",
       "      <th></th>\n",
       "      <th></th>\n",
       "      <th></th>\n",
       "      <th></th>\n",
       "      <th></th>\n",
       "      <th></th>\n",
       "      <th></th>\n",
       "      <th></th>\n",
       "      <th></th>\n",
       "      <th></th>\n",
       "    </tr>\n",
       "  </thead>\n",
       "  <tbody>\n",
       "    <tr>\n",
       "      <th>1765</th>\n",
       "      <td>0.003</td>\n",
       "      <td>0.000000</td>\n",
       "      <td>0.000000</td>\n",
       "      <td>0.000000</td>\n",
       "      <td>0.000000</td>\n",
       "      <td>0.000000</td>\n",
       "      <td>0.000000</td>\n",
       "      <td>0.000000</td>\n",
       "      <td>0.000000</td>\n",
       "      <td>0.000000</td>\n",
       "      <td>...</td>\n",
       "      <td>0.0</td>\n",
       "      <td>0.0</td>\n",
       "      <td>0.0</td>\n",
       "      <td>0.0</td>\n",
       "      <td>0.0</td>\n",
       "      <td>0.0</td>\n",
       "      <td>0.0</td>\n",
       "      <td>0.0</td>\n",
       "      <td>157.267</td>\n",
       "      <td>3100.211</td>\n",
       "    </tr>\n",
       "    <tr>\n",
       "      <th>1766</th>\n",
       "      <td>0.003</td>\n",
       "      <td>0.005338</td>\n",
       "      <td>1.963262</td>\n",
       "      <td>0.005191</td>\n",
       "      <td>98.882647</td>\n",
       "      <td>9.050221</td>\n",
       "      <td>1.596875</td>\n",
       "      <td>0.109502</td>\n",
       "      <td>0.106998</td>\n",
       "      <td>0.565920</td>\n",
       "      <td>...</td>\n",
       "      <td>0.0</td>\n",
       "      <td>0.0</td>\n",
       "      <td>0.0</td>\n",
       "      <td>0.0</td>\n",
       "      <td>0.0</td>\n",
       "      <td>0.0</td>\n",
       "      <td>0.0</td>\n",
       "      <td>0.0</td>\n",
       "      <td>157.267</td>\n",
       "      <td>3100.211</td>\n",
       "    </tr>\n",
       "    <tr>\n",
       "      <th>1767</th>\n",
       "      <td>0.003</td>\n",
       "      <td>0.010677</td>\n",
       "      <td>2.436448</td>\n",
       "      <td>0.010117</td>\n",
       "      <td>116.306500</td>\n",
       "      <td>12.960844</td>\n",
       "      <td>2.292316</td>\n",
       "      <td>0.168038</td>\n",
       "      <td>0.133383</td>\n",
       "      <td>0.781468</td>\n",
       "      <td>...</td>\n",
       "      <td>0.0</td>\n",
       "      <td>0.0</td>\n",
       "      <td>0.0</td>\n",
       "      <td>0.0</td>\n",
       "      <td>0.0</td>\n",
       "      <td>0.0</td>\n",
       "      <td>0.0</td>\n",
       "      <td>0.0</td>\n",
       "      <td>157.267</td>\n",
       "      <td>3100.211</td>\n",
       "    </tr>\n",
       "    <tr>\n",
       "      <th>1768</th>\n",
       "      <td>0.003</td>\n",
       "      <td>0.016015</td>\n",
       "      <td>2.911105</td>\n",
       "      <td>0.015043</td>\n",
       "      <td>133.810750</td>\n",
       "      <td>16.876539</td>\n",
       "      <td>2.988648</td>\n",
       "      <td>0.226625</td>\n",
       "      <td>0.159847</td>\n",
       "      <td>0.997361</td>\n",
       "      <td>...</td>\n",
       "      <td>0.0</td>\n",
       "      <td>0.0</td>\n",
       "      <td>0.0</td>\n",
       "      <td>0.0</td>\n",
       "      <td>0.0</td>\n",
       "      <td>0.0</td>\n",
       "      <td>0.0</td>\n",
       "      <td>0.0</td>\n",
       "      <td>157.267</td>\n",
       "      <td>3100.211</td>\n",
       "    </tr>\n",
       "    <tr>\n",
       "      <th>1769</th>\n",
       "      <td>0.003</td>\n",
       "      <td>0.021353</td>\n",
       "      <td>3.387278</td>\n",
       "      <td>0.019969</td>\n",
       "      <td>151.397890</td>\n",
       "      <td>20.797465</td>\n",
       "      <td>3.685897</td>\n",
       "      <td>0.285264</td>\n",
       "      <td>0.186393</td>\n",
       "      <td>1.213611</td>\n",
       "      <td>...</td>\n",
       "      <td>0.0</td>\n",
       "      <td>0.0</td>\n",
       "      <td>0.0</td>\n",
       "      <td>0.0</td>\n",
       "      <td>0.0</td>\n",
       "      <td>0.0</td>\n",
       "      <td>0.0</td>\n",
       "      <td>0.0</td>\n",
       "      <td>157.267</td>\n",
       "      <td>3100.211</td>\n",
       "    </tr>\n",
       "  </tbody>\n",
       "</table>\n",
       "<p>5 rows × 36 columns</p>\n",
       "</div>"
      ],
      "text/plain": [
       "      anthroEmissions  lucEmissions  CH4_emissions  N2O_emissions  \\\n",
       "Date                                                                \n",
       "1765            0.003      0.000000       0.000000       0.000000   \n",
       "1766            0.003      0.005338       1.963262       0.005191   \n",
       "1767            0.003      0.010677       2.436448       0.010117   \n",
       "1768            0.003      0.016015       2.911105       0.015043   \n",
       "1769            0.003      0.021353       3.387278       0.019969   \n",
       "\n",
       "      SO2_emissions  CO_emissions  NMVOC_emissions  NOX_emissions  \\\n",
       "Date                                                                \n",
       "1765       0.000000      0.000000         0.000000       0.000000   \n",
       "1766      98.882647      9.050221         1.596875       0.109502   \n",
       "1767     116.306500     12.960844         2.292316       0.168038   \n",
       "1768     133.810750     16.876539         2.988648       0.226625   \n",
       "1769     151.397890     20.797465         3.685897       0.285264   \n",
       "\n",
       "      BC_emissions  OC_emissions       ...         CCl4_emissions  \\\n",
       "Date                                   ...                          \n",
       "1765      0.000000      0.000000       ...                    0.0   \n",
       "1766      0.106998      0.565920       ...                    0.0   \n",
       "1767      0.133383      0.781468       ...                    0.0   \n",
       "1768      0.159847      0.997361       ...                    0.0   \n",
       "1769      0.186393      1.213611       ...                    0.0   \n",
       "\n",
       "      CH3CCl3_emissions  HCF22_emissions  HCF141b_emissions  \\\n",
       "Date                                                          \n",
       "1765                0.0              0.0                0.0   \n",
       "1766                0.0              0.0                0.0   \n",
       "1767                0.0              0.0                0.0   \n",
       "1768                0.0              0.0                0.0   \n",
       "1769                0.0              0.0                0.0   \n",
       "\n",
       "      HCF142b_emissions  halon1211_emissions  halon1301_emissions  \\\n",
       "Date                                                                \n",
       "1765                0.0                  0.0                  0.0   \n",
       "1766                0.0                  0.0                  0.0   \n",
       "1767                0.0                  0.0                  0.0   \n",
       "1768                0.0                  0.0                  0.0   \n",
       "1769                0.0                  0.0                  0.0   \n",
       "\n",
       "      halon2402_emissions  CH3Br_emissions  CH3Cl_emissions  \n",
       "Date                                                         \n",
       "1765                  0.0          157.267         3100.211  \n",
       "1766                  0.0          157.267         3100.211  \n",
       "1767                  0.0          157.267         3100.211  \n",
       "1768                  0.0          157.267         3100.211  \n",
       "1769                  0.0          157.267         3100.211  \n",
       "\n",
       "[5 rows x 36 columns]"
      ]
     },
     "execution_count": 2,
     "metadata": {},
     "output_type": "execute_result"
    }
   ],
   "source": [
    "# Input emissions rcp 2.6\n",
    "rcp26.head(5)"
   ]
  },
  {
   "cell_type": "code",
   "execution_count": 3,
   "metadata": {},
   "outputs": [
    {
     "data": {
      "text/html": [
       "<div>\n",
       "<table border=\"1\" class=\"dataframe\">\n",
       "  <thead>\n",
       "    <tr style=\"text-align: right;\">\n",
       "      <th></th>\n",
       "      <th>forcing.Ftot</th>\n",
       "      <th>simpleNbox.Ca</th>\n",
       "      <th>temperature.Tgav</th>\n",
       "    </tr>\n",
       "  </thead>\n",
       "  <tbody>\n",
       "    <tr>\n",
       "      <th>1746</th>\n",
       "      <td>0.0</td>\n",
       "      <td>287.762403</td>\n",
       "      <td>0.0</td>\n",
       "    </tr>\n",
       "    <tr>\n",
       "      <th>1747</th>\n",
       "      <td>0.0</td>\n",
       "      <td>287.425746</td>\n",
       "      <td>0.0</td>\n",
       "    </tr>\n",
       "    <tr>\n",
       "      <th>1748</th>\n",
       "      <td>0.0</td>\n",
       "      <td>287.167320</td>\n",
       "      <td>0.0</td>\n",
       "    </tr>\n",
       "    <tr>\n",
       "      <th>1749</th>\n",
       "      <td>0.0</td>\n",
       "      <td>286.932050</td>\n",
       "      <td>0.0</td>\n",
       "    </tr>\n",
       "    <tr>\n",
       "      <th>1750</th>\n",
       "      <td>0.0</td>\n",
       "      <td>286.708896</td>\n",
       "      <td>0.0</td>\n",
       "    </tr>\n",
       "  </tbody>\n",
       "</table>\n",
       "</div>"
      ],
      "text/plain": [
       "      forcing.Ftot  simpleNbox.Ca  temperature.Tgav\n",
       "1746           0.0     287.762403               0.0\n",
       "1747           0.0     287.425746               0.0\n",
       "1748           0.0     287.167320               0.0\n",
       "1749           0.0     286.932050               0.0\n",
       "1750           0.0     286.708896               0.0"
      ]
     },
     "execution_count": 3,
     "metadata": {},
     "output_type": "execute_result"
    }
   ],
   "source": [
    "# Run hector and show default outputs\n",
    "output = pyhector.run(rcp26)\n",
    "output.head(5)"
   ]
  },
  {
   "cell_type": "code",
   "execution_count": 4,
   "metadata": {},
   "outputs": [
    {
     "data": {
      "text/html": [
       "<div>\n",
       "<table border=\"1\" class=\"dataframe\">\n",
       "  <thead>\n",
       "    <tr style=\"text-align: right;\">\n",
       "      <th></th>\n",
       "      <th>forcing.FCO2</th>\n",
       "      <th>forcing.Ftot</th>\n",
       "      <th>ocean.Temp_HL</th>\n",
       "      <th>simpleNbox.Ca</th>\n",
       "      <th>temperature.Tgav</th>\n",
       "    </tr>\n",
       "  </thead>\n",
       "  <tbody>\n",
       "    <tr>\n",
       "      <th>1746</th>\n",
       "      <td>0.0</td>\n",
       "      <td>0.0</td>\n",
       "      <td>2.0</td>\n",
       "      <td>287.762403</td>\n",
       "      <td>0.0</td>\n",
       "    </tr>\n",
       "    <tr>\n",
       "      <th>1747</th>\n",
       "      <td>0.0</td>\n",
       "      <td>0.0</td>\n",
       "      <td>2.0</td>\n",
       "      <td>287.425746</td>\n",
       "      <td>0.0</td>\n",
       "    </tr>\n",
       "    <tr>\n",
       "      <th>1748</th>\n",
       "      <td>0.0</td>\n",
       "      <td>0.0</td>\n",
       "      <td>2.0</td>\n",
       "      <td>287.167320</td>\n",
       "      <td>0.0</td>\n",
       "    </tr>\n",
       "    <tr>\n",
       "      <th>1749</th>\n",
       "      <td>0.0</td>\n",
       "      <td>0.0</td>\n",
       "      <td>2.0</td>\n",
       "      <td>286.932050</td>\n",
       "      <td>0.0</td>\n",
       "    </tr>\n",
       "    <tr>\n",
       "      <th>1750</th>\n",
       "      <td>0.0</td>\n",
       "      <td>0.0</td>\n",
       "      <td>2.0</td>\n",
       "      <td>286.708896</td>\n",
       "      <td>0.0</td>\n",
       "    </tr>\n",
       "  </tbody>\n",
       "</table>\n",
       "</div>"
      ],
      "text/plain": [
       "      forcing.FCO2  forcing.Ftot  ocean.Temp_HL  simpleNbox.Ca  \\\n",
       "1746           0.0           0.0            2.0     287.762403   \n",
       "1747           0.0           0.0            2.0     287.425746   \n",
       "1748           0.0           0.0            2.0     287.167320   \n",
       "1749           0.0           0.0            2.0     286.932050   \n",
       "1750           0.0           0.0            2.0     286.708896   \n",
       "\n",
       "      temperature.Tgav  \n",
       "1746               0.0  \n",
       "1747               0.0  \n",
       "1748               0.0  \n",
       "1749               0.0  \n",
       "1750               0.0  "
      ]
     },
     "execution_count": 4,
     "metadata": {},
     "output_type": "execute_result"
    }
   ],
   "source": [
    "# Display other outputs\n",
    "output = pyhector.run(rcp26, outputs=['temperature.Tgav', 'simpleNbox.Ca', 'forcing.Ftot',\n",
    "                                      'forcing.FCO2', 'ocean.Temp_HL'])\n",
    "output.head(5)"
   ]
  },
  {
   "cell_type": "code",
   "execution_count": 5,
   "metadata": {},
   "outputs": [
    {
     "data": {
      "text/plain": [
       "0.11799824750873752"
      ]
     },
     "execution_count": 5,
     "metadata": {},
     "output_type": "execute_result"
    }
   ],
   "source": [
    "# Calculate mean forcing 1850-1950\n",
    "output['forcing.Ftot'].loc[1850:1950].mean()"
   ]
  },
  {
   "cell_type": "code",
   "execution_count": 6,
   "metadata": {},
   "outputs": [
    {
     "data": {
      "image/png": "[encoded data removed]",
      "text/plain": [
       "<matplotlib.figure.Figure at 0x110aaa890>"
      ]
     },
     "metadata": {},
     "output_type": "display_data"
    }
   ],
   "source": [
    "# Plot rcp temperatures\n",
    "import matplotlib.pyplot as plt\n",
    "\n",
    "for rcp in [rcp26, rcp45, rcp60, rcp85]:\n",
    "    output = pyhector.run(rcp, {\"core\": {\"endDate\": 2100}})\n",
    "    temp = output[\"temperature.Tgav\"]\n",
    "    # Adjust to 1850 - 1900 reference period\n",
    "    temp = temp.loc[1850:] - temp.loc[1850:1900].mean()\n",
    "    temp.plot(label=rcp.name.split(\"_\")[0])\n",
    "plt.title(\"Global mean temperature\")\n",
    "plt.ylabel(\"Degrees C over pre-industrial (1850-1900 mean)\")\n",
    "plt.legend(loc=\"best\")\n",
    "plt.show()"
   ]
  },
  {
   "cell_type": "code",
   "execution_count": 7,
   "metadata": {},
   "outputs": [
    {
     "data": {
      "text/plain": [
       "year\n",
       "2006    379.084086\n",
       "2007    381.856691\n",
       "2008    380.892569\n",
       "2009    383.700390\n",
       "2010    386.930507\n",
       "Name: co2_value, dtype: float64"
      ]
     },
     "execution_count": 7,
     "metadata": {},
     "output_type": "execute_result"
    }
   ],
   "source": [
    "# Read in co2 file to match\n",
    "import pandas as pd\n",
    "from numpy import mean\n",
    "from dplython import (DplyFrame, X, mutate)\n",
    "co2_file_to_match = \"annual_avg_co2_GFDL-ESM2M_rcp45_r1i1p1.csv\"\n",
    "esm_co2_data = pd.read_csv(co2_file_to_match).rename(columns={\"value.1...\":\"co2_value\"}).set_index('year')\n",
    "esm_co2 = esm_co2_data.co2_value * 1000000\n",
    "esm_co2.head(5)"
   ]
  },
  {
   "cell_type": "code",
   "execution_count": 8,
   "metadata": {},
   "outputs": [
    {
     "data": {
      "text/html": [
       "<div>\n",
       "<table border=\"1\" class=\"dataframe\">\n",
       "  <thead>\n",
       "    <tr style=\"text-align: right;\">\n",
       "      <th></th>\n",
       "      <th>esm</th>\n",
       "      <th>hector</th>\n",
       "    </tr>\n",
       "    <tr>\n",
       "      <th>year</th>\n",
       "      <th></th>\n",
       "      <th></th>\n",
       "    </tr>\n",
       "  </thead>\n",
       "  <tbody>\n",
       "    <tr>\n",
       "      <th>2006</th>\n",
       "      <td>379.084086</td>\n",
       "      <td>374.330198</td>\n",
       "    </tr>\n",
       "    <tr>\n",
       "      <th>2007</th>\n",
       "      <td>381.856691</td>\n",
       "      <td>376.439792</td>\n",
       "    </tr>\n",
       "    <tr>\n",
       "      <th>2008</th>\n",
       "      <td>380.892569</td>\n",
       "      <td>378.561045</td>\n",
       "    </tr>\n",
       "    <tr>\n",
       "      <th>2009</th>\n",
       "      <td>383.700390</td>\n",
       "      <td>380.689143</td>\n",
       "    </tr>\n",
       "    <tr>\n",
       "      <th>2010</th>\n",
       "      <td>386.930507</td>\n",
       "      <td>382.823367</td>\n",
       "    </tr>\n",
       "  </tbody>\n",
       "</table>\n",
       "</div>"
      ],
      "text/plain": [
       "             esm      hector\n",
       "year                        \n",
       "2006  379.084086  374.330198\n",
       "2007  381.856691  376.439792\n",
       "2008  380.892569  378.561045\n",
       "2009  383.700390  380.689143\n",
       "2010  386.930507  382.823367"
      ]
     },
     "execution_count": 8,
     "metadata": {},
     "output_type": "execute_result"
    }
   ],
   "source": [
    "# Compare hector and esm\n",
    "CONCENTRATION_CO2 = \"simpleNbox.Ca\"\n",
    "hector_co2 = pyhector.run(pyhector.rcp45)[CONCENTRATION_CO2].loc[esm_co2.index]\n",
    "DplyFrame({\"hector\": hector_co2, \"esm\": esm_co2}).head()"
   ]
  },
  {
   "cell_type": "code",
   "execution_count": 9,
   "metadata": {},
   "outputs": [
    {
     "data": {
      "text/plain": [
       "0.013182664642944689"
      ]
     },
     "execution_count": 9,
     "metadata": {},
     "output_type": "execute_result"
    }
   ],
   "source": [
    "# Function to calculate difference\n",
    "def difference_quantifier(esm_series, hector_run_series):\n",
    "    calculate_df = DplyFrame({\"hector\": hector_run_series, \"esm\": esm_series})\n",
    "    calculate_df = calculate_df >> mutate(percentdiff=(X.hector - X.esm) / X.esm)\n",
    "    return mean(abs(calculate_df.percentdiff))\n",
    "\n",
    "difference_quantifier(esm_co2,hector_co2)"
   ]
  },
  {
   "cell_type": "code",
   "execution_count": 10,
   "metadata": {},
   "outputs": [
    {
     "data": {
      "text/plain": [
       "0.052140327799792038"
      ]
     },
     "execution_count": 10,
     "metadata": {},
     "output_type": "execute_result"
    }
   ],
   "source": [
    "# Function to run hector with selected parameters and calculate difference from esm\n",
    "def hector_runner(params, comp_data, var):\n",
    "    hector_output = pyhector.run(pyhector.rcp45, {\"temperature\": {\"S\": params[0]},\n",
    "                                                 \"simpleNbox\":{\"beta\":params[1]},\n",
    "                                                \"simpleNbox\":{\"q10_rh\":params[2]}})\n",
    "    hector_co2 = hector_output[var].loc[comp_data.index]\n",
    "    return difference_quantifier(comp_data, hector_co2)\n",
    "\n",
    "hector_runner([4,1,1], esm_co2, CONCENTRATION_CO2)"
   ]
  },
  {
   "cell_type": "code",
   "execution_count": 11,
   "metadata": {},
   "outputs": [
    {
     "name": "stderr",
     "output_type": "stream",
     "text": [
      "/usr/local/lib/python2.7/site-packages/scipy/linalg/basic.py:17: RuntimeWarning: numpy.dtype size changed, may indicate binary incompatibility. Expected 96, got 88\n",
      "  from ._solve_toeplitz import levinson\n",
      "/usr/local/lib/python2.7/site-packages/scipy/linalg/__init__.py:191: RuntimeWarning: numpy.dtype size changed, may indicate binary incompatibility. Expected 96, got 88\n",
      "  from ._decomp_update import *\n",
      "/usr/local/lib/python2.7/site-packages/scipy/sparse/lil.py:16: RuntimeWarning: numpy.dtype size changed, may indicate binary incompatibility. Expected 96, got 88\n",
      "  from . import _csparsetools\n",
      "/usr/local/lib/python2.7/site-packages/scipy/sparse/csgraph/__init__.py:167: RuntimeWarning: numpy.dtype size changed, may indicate binary incompatibility. Expected 96, got 88\n",
      "  from ._shortest_path import shortest_path, floyd_warshall, dijkstra,\\\n",
      "/usr/local/lib/python2.7/site-packages/scipy/sparse/csgraph/_validation.py:5: RuntimeWarning: numpy.dtype size changed, may indicate binary incompatibility. Expected 96, got 88\n",
      "  from ._tools import csgraph_to_dense, csgraph_from_dense,\\\n",
      "/usr/local/lib/python2.7/site-packages/scipy/special/__init__.py:640: RuntimeWarning: numpy.dtype size changed, may indicate binary incompatibility. Expected 96, got 88\n",
      "  from ._ufuncs import *\n",
      "/usr/local/lib/python2.7/site-packages/scipy/special/_ellip_harm.py:7: RuntimeWarning: numpy.dtype size changed, may indicate binary incompatibility. Expected 96, got 88\n",
      "  from ._ellip_harm_2 import _ellipsoid, _ellipsoid_norm\n",
      "/usr/local/lib/python2.7/site-packages/scipy/optimize/_numdiff.py:8: RuntimeWarning: numpy.dtype size changed, may indicate binary incompatibility. Expected 96, got 88\n",
      "  from ._group_columns import group_dense, group_sparse\n"
     ]
    }
   ],
   "source": [
    "import scipy.optimize"
   ]
  },
  {
   "cell_type": "code",
   "execution_count": 12,
   "metadata": {},
   "outputs": [
    {
     "name": "stdout",
     "output_type": "stream",
     "text": [
      "Optimization terminated successfully.\n",
      "         Current function value: 0.003391\n",
      "         Iterations: 3\n",
      "         Function evaluations: 206\n"
     ]
    },
    {
     "data": {
      "text/plain": [
       "array([ 3.74202374,  9.77973754,  2.00205191])"
      ]
     },
     "execution_count": 12,
     "metadata": {},
     "output_type": "execute_result"
    }
   ],
   "source": [
    "optim = scipy.optimize.fmin_powell(hector_runner, x0 = [5,2,2], args = (esm_co2,CONCENTRATION_CO2))\n",
    "optim"
   ]
  },
  {
   "cell_type": "code",
   "execution_count": 13,
   "metadata": {},
   "outputs": [
    {
     "data": {
      "image/png": "[encoded data removed]",
      "text/plain": [
       "<matplotlib.figure.Figure at 0x112fd1890>"
      ]
     },
     "metadata": {},
     "output_type": "display_data"
    }
   ],
   "source": [
    "# Compare optimized hector to default hector\n",
    "hector_optim =  pyhector.run(pyhector.rcp45, {\"temperature\": {\"S\": 3.74202374},\n",
    "                                                 \"simpleNbox\":{\"beta\":9.77973754},\n",
    "                                                \"simpleNbox\":{\"q10_rh\":2.00205191}})\n",
    "\n",
    "optimized = hector_optim[CONCENTRATION_CO2].loc[2010:2100]\n",
    "\n",
    "plt.style.use('ggplot')\n",
    "plt.rcParams['figure.figsize'] = 16, 9\n",
    "\n",
    "hector_co2.plot(label=\"Default Hector\")\n",
    "optimized.plot(label = \"Optimized Hector\")\n",
    "esm_co2.plot(label = \"GFDL-ESM2M\")\n",
    "plt.title(\"CO2 Concentration - rcp45\")\n",
    "plt.ylabel(\"PPM\")\n",
    "plt.legend(loc=\"best\")\n",
    "plt.show()"
   ]
  },
  {
   "cell_type": "code",
   "execution_count": null,
   "metadata": {
    "collapsed": true
   },
   "outputs": [],
   "source": []
  }
 ],
 "metadata": {
  "kernelspec": {
   "display_name": "Python 2",
   "language": "python",
   "name": "python2"
  },
  "language_info": {
   "codemirror_mode": {
    "name": "ipython",
    "version": 2
   },
   "file_extension": ".py",
   "mimetype": "text/x-python",
   "name": "python",
   "nbconvert_exporter": "python",
   "pygments_lexer": "ipython2",
   "version": "2.7.13"
  }
 },
 "nbformat": 4,
 "nbformat_minor": 1
}
