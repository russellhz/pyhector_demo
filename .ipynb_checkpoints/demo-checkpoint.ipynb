{
 "cells": [
  {
   "cell_type": "code",
   "execution_count": null,
   "metadata": {
    "collapsed": true
   },
   "outputs": [],
   "source": [
    "import pyhector\n",
    "from pyhector import rcp26, rcp45, rcp60, rcp85\n",
    "import pandas as pd\n",
    "import numpy as np"
   ]
  },
  {
   "cell_type": "code",
   "execution_count": null,
   "metadata": {},
   "outputs": [],
   "source": [
    "# Input emissions\n",
    "rcp26.head(5)"
   ]
  },
  {
   "cell_type": "code",
   "execution_count": null,
   "metadata": {},
   "outputs": [],
   "source": [
    "# Run rcp26 scenario and view default output\n",
    "output = pyhector.run(rcp26)\n",
    "output.head(5)"
   ]
  },
  {
   "cell_type": "code",
   "execution_count": null,
   "metadata": {
    "scrolled": true
   },
   "outputs": [],
   "source": [
    "# Print out other outputs\n",
    "output = pyhector.run(rcp26, outputs=['temperature.Tgav', 'simpleNbox.Ca', 'forcing.Ftot',\n",
    "                                      'forcing.FCO2', 'ocean.Temp_HL'])\n",
    "output.head(5)"
   ]
  },
  {
   "cell_type": "code",
   "execution_count": null,
   "metadata": {},
   "outputs": [],
   "source": [
    "# Calculate average forcing between 1850 and 1950\n",
    "output['forcing.Ftot'].loc[1850:1950].mean()"
   ]
  },
  {
   "cell_type": "code",
   "execution_count": null,
   "metadata": {},
   "outputs": [],
   "source": [
    "# Plot all rcp temperature increases\n",
    "import matplotlib.pyplot as plt\n",
    "\n",
    "for rcp in [rcp26, rcp45, rcp60, rcp85]:\n",
    "    output = pyhector.run(rcp, {\"core\": {\"endDate\": 2100}})\n",
    "    temp = output[\"temperature.Tgav\"]\n",
    "    # Adjust to 1850 - 1900 reference period\n",
    "    temp = temp.loc[1850:] - temp.loc[1850:1900].mean()\n",
    "    temp.plot(label=rcp.name.split(\"_\")[0])\n",
    "plt.title(\"Global mean temperature\")\n",
    "plt.ylabel(\"Degrees C over pre-industrial (1850-1900 mean)\")\n",
    "plt.legend(loc=\"best\")\n",
    "plt.show()"
   ]
  },
  {
   "cell_type": "code",
   "execution_count": null,
   "metadata": {
    "collapsed": true
   },
   "outputs": [],
   "source": []
  }
 ],
 "metadata": {
  "kernelspec": {
   "display_name": "Python 2",
   "language": "python",
   "name": "python2"
  },
  "language_info": {
   "codemirror_mode": {
    "name": "ipython",
    "version": 2
   },
   "file_extension": ".py",
   "mimetype": "text/x-python",
   "name": "python",
   "nbconvert_exporter": "python",
   "pygments_lexer": "ipython2",
   "version": "2.7.13"
  }
 },
 "nbformat": 4,
 "nbformat_minor": 1
}
